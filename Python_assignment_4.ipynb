{
 "cells": [
  {
   "cell_type": "markdown",
   "id": "51dbe16a",
   "metadata": {},
   "source": [
    "### 1. Write a Python Program to Find the Factorial of a Number?"
   ]
  },
  {
   "cell_type": "code",
   "execution_count": 1,
   "id": "0e95ed4f",
   "metadata": {},
   "outputs": [
    {
     "name": "stdout",
     "output_type": "stream",
     "text": [
      "enter the number : 5\n",
      "fectorial is 120\n"
     ]
    }
   ],
   "source": [
    "num = int(input(\"enter the number : \"))\n",
    "\n",
    "fectorial = 1\n",
    "\n",
    "while (num > 0):\n",
    "    fectorial = fectorial *num\n",
    "    num = num -1\n",
    "    \n",
    "print(f\"fectorial is {fectorial}\")"
   ]
  },
  {
   "cell_type": "markdown",
   "id": "2742f0f9",
   "metadata": {},
   "source": [
    "### 2. Write a Python Program to Display the multiplication Table?"
   ]
  },
  {
   "cell_type": "code",
   "execution_count": 3,
   "id": "9568a74a",
   "metadata": {},
   "outputs": [
    {
     "name": "stdout",
     "output_type": "stream",
     "text": [
      "enter the table number: 2\n",
      "2 X 1 = 2\n",
      "2 X 2 = 4\n",
      "2 X 3 = 6\n",
      "2 X 4 = 8\n",
      "2 X 5 = 10\n",
      "2 X 6 = 12\n",
      "2 X 7 = 14\n",
      "2 X 8 = 16\n",
      "2 X 9 = 18\n",
      "2 X 10 = 20\n"
     ]
    }
   ],
   "source": [
    "table_num = int(input(\"enter the table number: \"))\n",
    "\n",
    "for i in range(1,11):\n",
    "    table = table_num * i\n",
    "    print(\"{0} X {1} = {2}\".format(table_num,i,table))"
   ]
  },
  {
   "cell_type": "markdown",
   "id": "a04fc2e5",
   "metadata": {},
   "source": [
    "### 3. Write a Python Program to Print the Fibonacci sequence?"
   ]
  },
  {
   "cell_type": "code",
   "execution_count": 4,
   "id": "ac869cec",
   "metadata": {},
   "outputs": [
    {
     "name": "stdout",
     "output_type": "stream",
     "text": [
      "Enter the number 4\n",
      "0\n",
      "1\n",
      "1\n",
      "2\n"
     ]
    }
   ],
   "source": [
    "num = int(input(\"Enter the number \"))\n",
    "x = 0\n",
    "y = 1\n",
    "num_sum = 0\n",
    "if num < 0:\n",
    "    print(\"enter positive numnber\")\n",
    "else:\n",
    "    for i in range(0 ,num):\n",
    "        print(num_sum)\n",
    "        x = y\n",
    "        y = num_sum\n",
    "        num_sum = x + y"
   ]
  },
  {
   "cell_type": "markdown",
   "id": "a381c238",
   "metadata": {},
   "source": [
    "### 4. Write a Python Program to Check Armstrong Number?"
   ]
  },
  {
   "cell_type": "code",
   "execution_count": 5,
   "id": "80ef8d9e",
   "metadata": {},
   "outputs": [
    {
     "data": {
      "text/plain": [
       "'153 is armstrong number'"
      ]
     },
     "execution_count": 5,
     "metadata": {},
     "output_type": "execute_result"
    }
   ],
   "source": [
    "def check_armstrong(num):\n",
    "    \n",
    "    lenth = len(str(num)) # it will check the len of the digit\n",
    "    total = 0  # to save the sum of the output\n",
    "    temp = num # saving original nunber in temp variable\n",
    "    for i in range(lenth): # loop for check the armstrong number\n",
    "        digit = num % 10 # it will give you last number\n",
    "        total = total +(digit ** lenth) # we are saving output of power of the digit in total \n",
    "        num = num //10 # we are remove that number which has been calculated \n",
    "\n",
    "    if total ==temp:\n",
    "        return f\"{temp} is armstrong number\"\n",
    "    else:\n",
    "        return False\n",
    "check_armstrong(153)"
   ]
  },
  {
   "cell_type": "code",
   "execution_count": 6,
   "id": "04679ef9",
   "metadata": {},
   "outputs": [
    {
     "data": {
      "text/plain": [
       "False"
      ]
     },
     "execution_count": 6,
     "metadata": {},
     "output_type": "execute_result"
    }
   ],
   "source": [
    "check_armstrong(15)"
   ]
  },
  {
   "cell_type": "markdown",
   "id": "75140eb4",
   "metadata": {},
   "source": [
    "### 5. Write a Python Program to Find Armstrong Number in an Interval?"
   ]
  },
  {
   "cell_type": "code",
   "execution_count": 7,
   "id": "e74b0748",
   "metadata": {},
   "outputs": [
    {
     "name": "stdout",
     "output_type": "stream",
     "text": [
      "153 370 371 407 "
     ]
    }
   ],
   "source": [
    "low = 10\n",
    "high = 1000\n",
    "for i in range(low, high +1):\n",
    "    if check_armstrong(i):\n",
    "        print(i, end = \" \")"
   ]
  },
  {
   "cell_type": "markdown",
   "id": "392f86d9",
   "metadata": {},
   "source": [
    "### 6. Write a Python Program to Find the Sum of Natural Numbers?"
   ]
  },
  {
   "cell_type": "code",
   "execution_count": 8,
   "id": "ea2c2edc",
   "metadata": {},
   "outputs": [
    {
     "name": "stdout",
     "output_type": "stream",
     "text": [
      "enter the number: 89\n",
      "Sum of 89 natual number is 4005\n"
     ]
    }
   ],
   "source": [
    "num = int(input(\"enter the number: \"))\n",
    "\n",
    "total = 0\n",
    "for i in range(1,num+1):\n",
    "    total = total+i\n",
    "    \n",
    "print(\"Sum of {0} natual number is {1}\".format(num,total))"
   ]
  },
  {
   "cell_type": "code",
   "execution_count": null,
   "id": "c12fa94d",
   "metadata": {},
   "outputs": [],
   "source": []
  }
 ],
 "metadata": {
  "kernelspec": {
   "display_name": "Python 3 (ipykernel)",
   "language": "python",
   "name": "python3"
  },
  "language_info": {
   "codemirror_mode": {
    "name": "ipython",
    "version": 3
   },
   "file_extension": ".py",
   "mimetype": "text/x-python",
   "name": "python",
   "nbconvert_exporter": "python",
   "pygments_lexer": "ipython3",
   "version": "3.9.12"
  }
 },
 "nbformat": 4,
 "nbformat_minor": 5
}
