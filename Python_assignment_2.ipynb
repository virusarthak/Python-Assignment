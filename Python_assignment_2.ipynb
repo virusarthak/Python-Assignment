{
 "cells": [
  {
   "cell_type": "markdown",
   "id": "51e61d8c",
   "metadata": {},
   "source": [
    "### 1. Write a Python program to convert kilometers to miles?"
   ]
  },
  {
   "cell_type": "code",
   "execution_count": 3,
   "id": "3ea9db57",
   "metadata": {},
   "outputs": [
    {
     "name": "stdout",
     "output_type": "stream",
     "text": [
      "enter the KM : 10\n",
      "10 KM equal to 6.215040397762586 miles \n"
     ]
    }
   ],
   "source": [
    "KM = int(input(\"enter the KM : \"))\n",
    "miles = 1.609\n",
    "KM_to_miles = KM/miles\n",
    "print(\"{0} KM equal to {1} miles \".format(KM,KM_to_miles))"
   ]
  },
  {
   "cell_type": "markdown",
   "id": "de4eb7f9",
   "metadata": {},
   "source": [
    "### 2.Write a Python program to convert Celsius to Fahrenheit?"
   ]
  },
  {
   "cell_type": "code",
   "execution_count": 11,
   "id": "5367f587",
   "metadata": {},
   "outputs": [
    {
     "name": "stdout",
     "output_type": "stream",
     "text": [
      "Celsius :- 10\n",
      "10 equal to 50.0 fehrenheit\n"
     ]
    }
   ],
   "source": [
    "celsius = int(input(\"Celsius :- \"))\n",
    "fehren_temp = (celsius*1.8)+32\n",
    "print(f\"{celsius} equal to {fehren_temp} fehrenheit\")"
   ]
  },
  {
   "cell_type": "markdown",
   "id": "9bb50da8",
   "metadata": {},
   "source": [
    "### 3. Write a Python program to display calendar?"
   ]
  },
  {
   "cell_type": "code",
   "execution_count": 20,
   "id": "cdfe7c94",
   "metadata": {},
   "outputs": [
    {
     "name": "stdout",
     "output_type": "stream",
     "text": [
      "    January 2023\n",
      "Mo Tu We Th Fr Sa Su\n",
      "                   1\n",
      " 2  3  4  5  6  7  8\n",
      " 9 10 11 12 13 14 15\n",
      "16 17 18 19 20 21 22\n",
      "23 24 25 26 27 28 29\n",
      "30 31\n",
      "\n"
     ]
    }
   ],
   "source": [
    "import calendar\n",
    "\n",
    "print(calendar.month(2023,1))"
   ]
  },
  {
   "cell_type": "code",
   "execution_count": 27,
   "id": "d3f7e7d0",
   "metadata": {},
   "outputs": [
    {
     "name": "stdout",
     "output_type": "stream",
     "text": [
      "                                  2023\n",
      "\n",
      "      January                   February                   March\n",
      "Mo Tu We Th Fr Sa Su      Mo Tu We Th Fr Sa Su      Mo Tu We Th Fr Sa Su\n",
      "                   1             1  2  3  4  5             1  2  3  4  5\n",
      " 2  3  4  5  6  7  8       6  7  8  9 10 11 12       6  7  8  9 10 11 12\n",
      " 9 10 11 12 13 14 15      13 14 15 16 17 18 19      13 14 15 16 17 18 19\n",
      "16 17 18 19 20 21 22      20 21 22 23 24 25 26      20 21 22 23 24 25 26\n",
      "23 24 25 26 27 28 29      27 28                     27 28 29 30 31\n",
      "30 31\n",
      "\n",
      "       April                      May                       June\n",
      "Mo Tu We Th Fr Sa Su      Mo Tu We Th Fr Sa Su      Mo Tu We Th Fr Sa Su\n",
      "                1  2       1  2  3  4  5  6  7                1  2  3  4\n",
      " 3  4  5  6  7  8  9       8  9 10 11 12 13 14       5  6  7  8  9 10 11\n",
      "10 11 12 13 14 15 16      15 16 17 18 19 20 21      12 13 14 15 16 17 18\n",
      "17 18 19 20 21 22 23      22 23 24 25 26 27 28      19 20 21 22 23 24 25\n",
      "24 25 26 27 28 29 30      29 30 31                  26 27 28 29 30\n",
      "\n",
      "        July                     August                  September\n",
      "Mo Tu We Th Fr Sa Su      Mo Tu We Th Fr Sa Su      Mo Tu We Th Fr Sa Su\n",
      "                1  2          1  2  3  4  5  6                   1  2  3\n",
      " 3  4  5  6  7  8  9       7  8  9 10 11 12 13       4  5  6  7  8  9 10\n",
      "10 11 12 13 14 15 16      14 15 16 17 18 19 20      11 12 13 14 15 16 17\n",
      "17 18 19 20 21 22 23      21 22 23 24 25 26 27      18 19 20 21 22 23 24\n",
      "24 25 26 27 28 29 30      28 29 30 31               25 26 27 28 29 30\n",
      "31\n",
      "\n",
      "      October                   November                  December\n",
      "Mo Tu We Th Fr Sa Su      Mo Tu We Th Fr Sa Su      Mo Tu We Th Fr Sa Su\n",
      "                   1             1  2  3  4  5                   1  2  3\n",
      " 2  3  4  5  6  7  8       6  7  8  9 10 11 12       4  5  6  7  8  9 10\n",
      " 9 10 11 12 13 14 15      13 14 15 16 17 18 19      11 12 13 14 15 16 17\n",
      "16 17 18 19 20 21 22      20 21 22 23 24 25 26      18 19 20 21 22 23 24\n",
      "23 24 25 26 27 28 29      27 28 29 30               25 26 27 28 29 30 31\n",
      "30 31\n",
      "\n"
     ]
    }
   ],
   "source": [
    "import calendar\n",
    "\n",
    "print(calendar.calendar(2023,2,1,6)) # this would print entire years calendar"
   ]
  },
  {
   "cell_type": "markdown",
   "id": "5fac9003",
   "metadata": {},
   "source": [
    "### 4. Write a Python program to solve quadratic equation?"
   ]
  },
  {
   "cell_type": "code",
   "execution_count": 35,
   "id": "6f154c68",
   "metadata": {},
   "outputs": [
    {
     "name": "stdout",
     "output_type": "stream",
     "text": [
      "ax^2 + bx^1 + c = 0\n",
      "Enter the coeffcient of a, b and constant c\n",
      "Enter the coeffcient a: 1\n",
      "Enter the coeffcient b: -9\n",
      "Enter the constant c: 14\n",
      "\n",
      "For quad eq. 1x^2 + (-9)x^1 + 14\n",
      "The solutions are: 7.0 and 2.0\n"
     ]
    }
   ],
   "source": [
    "import math\n",
    "\n",
    "print(\"ax^2 + bx^1 + c = 0\")\n",
    "print(\"Enter the coeffcient of a, b and constant c\")\n",
    "\n",
    "a = int(input((\"Enter the coeffcient a: \")))\n",
    "b = int(input((\"Enter the coeffcient b: \")))\n",
    "c = int(input((\"Enter the constant c: \")))\n",
    "\n",
    "d = (b**2) - (4*a*c)\n",
    "\n",
    "value1 = ((-1*b)+(math.sqrt(d))) / (2*a)\n",
    "value2 = ((-1*b)-(math.sqrt(d))) / (2*a)\n",
    "\n",
    "print('\\nFor quad eq. {}x^2 + ({})x^1 + {}'.format(a,b,c))\n",
    "print('The solutions are: {} and {}'.format(value1, value2))"
   ]
  },
  {
   "cell_type": "markdown",
   "id": "8227de86",
   "metadata": {},
   "source": [
    "### 5. Write a Python program to swap two variables without temp variable?"
   ]
  },
  {
   "cell_type": "code",
   "execution_count": 40,
   "id": "3f7c7fa6",
   "metadata": {},
   "outputs": [
    {
     "name": "stdout",
     "output_type": "stream",
     "text": [
      "10 and 20 value\n",
      "\n",
      "after swap\n",
      "\n",
      "20 and 10 value\n"
     ]
    }
   ],
   "source": [
    "var_1 = 10\n",
    "var_2 = 20\n",
    "\n",
    "print(f\"{var_1} and {var_2} value\")\n",
    "\n",
    "sum_vars = var_1 + var_2\n",
    "var_1 = sum_vars - var_1\n",
    "var_2 = sum_vars - var_2\n",
    "\n",
    "print(\"\\nafter swap\")\n",
    "print(f\"\\n{var_1} and {var_2} value\")\n",
    "\n"
   ]
  },
  {
   "cell_type": "code",
   "execution_count": null,
   "id": "1a1411c9",
   "metadata": {},
   "outputs": [],
   "source": []
  }
 ],
 "metadata": {
  "kernelspec": {
   "display_name": "Python 3 (ipykernel)",
   "language": "python",
   "name": "python3"
  },
  "language_info": {
   "codemirror_mode": {
    "name": "ipython",
    "version": 3
   },
   "file_extension": ".py",
   "mimetype": "text/x-python",
   "name": "python",
   "nbconvert_exporter": "python",
   "pygments_lexer": "ipython3",
   "version": "3.9.12"
  }
 },
 "nbformat": 4,
 "nbformat_minor": 5
}
