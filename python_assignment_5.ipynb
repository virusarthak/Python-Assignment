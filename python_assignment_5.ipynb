{
 "cells": [
  {
   "cell_type": "markdown",
   "id": "81304264",
   "metadata": {},
   "source": [
    "### 1. Write a Python Program to Find LCM?"
   ]
  },
  {
   "cell_type": "code",
   "execution_count": 19,
   "id": "8742a1fc",
   "metadata": {},
   "outputs": [
    {
     "data": {
      "text/plain": [
       "72"
      ]
     },
     "execution_count": 19,
     "metadata": {},
     "output_type": "execute_result"
    }
   ],
   "source": [
    "def find_lcm(x,y):\n",
    "    if x>y:\n",
    "        high = x\n",
    "    else:\n",
    "        high =y\n",
    "    while True:\n",
    "        if (high %x ==0) and (high %y ==0): # if both the value divisble by a number it will be LCM\n",
    "            return high\n",
    "            break\n",
    "        else:\n",
    "            high = high+1\n",
    "find_lcm(24,36)"
   ]
  },
  {
   "cell_type": "markdown",
   "id": "ca8efeab",
   "metadata": {},
   "source": [
    "### 2. Write a Python Program to Find HCF?"
   ]
  },
  {
   "cell_type": "code",
   "execution_count": 13,
   "id": "c32c8c76",
   "metadata": {},
   "outputs": [
    {
     "name": "stdout",
     "output_type": "stream",
     "text": [
      "15 and 30 hfc is 15\n"
     ]
    }
   ],
   "source": [
    "def find_hcf(x,y):\n",
    "    if x < y:\n",
    "        minimum = x\n",
    "    else:\n",
    "        minimum = y\n",
    "    for i in range(1,minimum+1):\n",
    "        if (x%i ==0) and (y%i ==0):\n",
    "            hcf = i\n",
    "    print(f\"{x} and {y} hfc is {hcf}\")\n",
    "find_hcf(15,30)"
   ]
  },
  {
   "cell_type": "code",
   "execution_count": 14,
   "id": "4f881ab2",
   "metadata": {},
   "outputs": [
    {
     "name": "stdout",
     "output_type": "stream",
     "text": [
      "24 and 60 hfc is 12\n"
     ]
    }
   ],
   "source": [
    "find_hcf(24,60)"
   ]
  },
  {
   "cell_type": "code",
   "execution_count": 15,
   "id": "a2f4af92",
   "metadata": {},
   "outputs": [
    {
     "name": "stdout",
     "output_type": "stream",
     "text": [
      "53 and 33 hfc is 1\n"
     ]
    }
   ],
   "source": [
    "find_hcf(53,33)"
   ]
  },
  {
   "cell_type": "markdown",
   "id": "8fcdf102",
   "metadata": {},
   "source": [
    "### 3. Write a Python Program to Convert Decimal to Binary, Octal and Hexadecimal?"
   ]
  },
  {
   "cell_type": "code",
   "execution_count": 21,
   "id": "0f5df0e0",
   "metadata": {},
   "outputs": [
    {
     "name": "stdout",
     "output_type": "stream",
     "text": [
      "the Binary of 10 is :  0b1010\n",
      "the Octal of 10 is:       0o12\n",
      "the Hexadecimal of 10 is: 0xa\n"
     ]
    }
   ],
   "source": [
    "def conversion_num(num):\n",
    "    print(f\"the Binary of {num} is :  {bin(num)}\")\n",
    "    print(f\"the Octal of {num} is:       {oct(num)}\")\n",
    "    print(f\"the Hexadecimal of {num} is: {hex(num)}\")\n",
    "conversion_num(10)"
   ]
  },
  {
   "cell_type": "markdown",
   "id": "b597f5c6",
   "metadata": {},
   "source": [
    "### 4. Write a Python Program To Find ASCII value of a character?"
   ]
  },
  {
   "cell_type": "code",
   "execution_count": 22,
   "id": "f403833d",
   "metadata": {},
   "outputs": [
    {
     "name": "stdout",
     "output_type": "stream",
     "text": [
      "The ACSII value of char G is 71\n"
     ]
    }
   ],
   "source": [
    "def find_acsii_value(x):\n",
    "    acsii = ord(x)\n",
    "    print(\"The ACSII value of char {0} is {1}\".format(x,acsii))\n",
    "find_acsii_value(\"G\")"
   ]
  },
  {
   "cell_type": "markdown",
   "id": "ff7e7d97",
   "metadata": {},
   "source": [
    "### 5. Write a Python Program to Make a Simple Calculator with 4 basic mathematical operations?"
   ]
  },
  {
   "cell_type": "code",
   "execution_count": 33,
   "id": "2904d1a9",
   "metadata": {},
   "outputs": [
    {
     "name": "stdout",
     "output_type": "stream",
     "text": [
      "enter the number 10\n",
      "enter the number 10\n",
      "the mathematical operation /\n",
      "1.0\n"
     ]
    }
   ],
   "source": [
    "num1 = int(input(\"enter the number \"))\n",
    "num2 = int(input(\"enter the number \"))\n",
    "def simple_calc():\n",
    "    x = input(\"the mathematical operation \")\n",
    "    if x == \"+\":\n",
    "        print(num1+num2)\n",
    "    elif x == \"-\":\n",
    "        print(num1-num2)\n",
    "    elif x == \"/\":\n",
    "        print(num1/num2)\n",
    "    elif x == \"*\":\n",
    "        print(num1*num2)\n",
    "    else:\n",
    "        print(\"enter the valid mathematical operator from '+', '-', '*','/'\")\n",
    "simple_calc()    "
   ]
  }
 ],
 "metadata": {
  "kernelspec": {
   "display_name": "Python 3 (ipykernel)",
   "language": "python",
   "name": "python3"
  },
  "language_info": {
   "codemirror_mode": {
    "name": "ipython",
    "version": 3
   },
   "file_extension": ".py",
   "mimetype": "text/x-python",
   "name": "python",
   "nbconvert_exporter": "python",
   "pygments_lexer": "ipython3",
   "version": "3.9.12"
  }
 },
 "nbformat": 4,
 "nbformat_minor": 5
}
