{
 "cells": [
  {
   "cell_type": "code",
   "execution_count": 1,
   "id": "23348f85",
   "metadata": {},
   "outputs": [],
   "source": [
    "m1 = [[1,2,3],\n",
    "        [6, -4, -9],\n",
    "        [3,6,9]]\n",
    "\n",
    "m2 = [[6,9,3],\n",
    "        [1,-1,1],\n",
    "        [0, 9, 11]]"
   ]
  },
  {
   "cell_type": "markdown",
   "id": "87698c24",
   "metadata": {},
   "source": [
    "### 1. Write a Python Program to Add Two Matrices?"
   ]
  },
  {
   "cell_type": "code",
   "execution_count": 2,
   "id": "428b5203",
   "metadata": {},
   "outputs": [],
   "source": [
    "def add_mat(m1,m2):\n",
    "    output = []\n",
    "    for i in range(len(m1)):\n",
    "        add_mat = []\n",
    "        for j in range(len(m1)):\n",
    "            add_mat.append(m1[i][j] +m2[i][j])\n",
    "        output.append(add_mat)\n",
    "    print(output)"
   ]
  },
  {
   "cell_type": "code",
   "execution_count": 3,
   "id": "aeed0196",
   "metadata": {},
   "outputs": [
    {
     "name": "stdout",
     "output_type": "stream",
     "text": [
      "[[7, 11, 6], [7, -5, -8], [3, 15, 20]]\n"
     ]
    }
   ],
   "source": [
    "add_mat(m1,m2)"
   ]
  },
  {
   "cell_type": "markdown",
   "id": "dc74c670",
   "metadata": {},
   "source": [
    "### 2. Write a Python Program to Multiply Two Matrices?"
   ]
  },
  {
   "cell_type": "code",
   "execution_count": 4,
   "id": "3ca470e5",
   "metadata": {},
   "outputs": [],
   "source": [
    "A = [[12, 7, 3],\n",
    "    [4, 5, 6],\n",
    "    [7, 8, 9]]\n",
    "\n",
    "B = [[5, 8, 1, 2],\n",
    "    [6, 7, 3, 0],\n",
    "    [4, 5, 9, 1]]"
   ]
  },
  {
   "cell_type": "code",
   "execution_count": 5,
   "id": "e3be62ba",
   "metadata": {},
   "outputs": [
    {
     "name": "stdout",
     "output_type": "stream",
     "text": [
      "[114 160  60  27]\n",
      "[74 97 73 14]\n",
      "[119 157 112  23]\n"
     ]
    }
   ],
   "source": [
    "import numpy as np\n",
    "multiply = np.dot(A,B)\n",
    "for i in multiply:\n",
    "    print(i)"
   ]
  },
  {
   "cell_type": "markdown",
   "id": "ceb3b130",
   "metadata": {},
   "source": [
    "### 3. Write a Python Program to Transpose a Matrix?"
   ]
  },
  {
   "cell_type": "code",
   "execution_count": 6,
   "id": "b097df14",
   "metadata": {},
   "outputs": [
    {
     "name": "stdout",
     "output_type": "stream",
     "text": [
      "[12, 4, 3]\n",
      "[7, 5, 8]\n"
     ]
    }
   ],
   "source": [
    "\n",
    "X = [[12,7],\n",
    "    [4 ,5],\n",
    "    [3 ,8]]\n",
    "\n",
    "result = [[0,0,0],\n",
    "         [0,0,0]]\n",
    "\n",
    "for i in range(len(X)):\n",
    "    for j in range(len(X[0])):\n",
    "        result[j][i] = X[i][j]\n",
    "for i in result:\n",
    "    print(i)"
   ]
  },
  {
   "cell_type": "markdown",
   "id": "4a8ceb4c",
   "metadata": {},
   "source": [
    "### 4. Write a Python Program to Sort Words in Alphabetic Order?"
   ]
  },
  {
   "cell_type": "code",
   "execution_count": 7,
   "id": "350bee34",
   "metadata": {},
   "outputs": [
    {
     "name": "stdout",
     "output_type": "stream",
     "text": [
      "Enter the sentence: My name is rajbir\n",
      "is my name rajbir "
     ]
    }
   ],
   "source": [
    "sentence = input('Enter the sentence: ')\n",
    "words = []\n",
    "for i in sentence.split():\n",
    "    words.append(i.lower())\n",
    "words.sort()\n",
    "\n",
    "for i in words:\n",
    "    print(i,end =\" \")\n"
   ]
  },
  {
   "cell_type": "markdown",
   "id": "81cb58b5",
   "metadata": {},
   "source": [
    "### 5. Write a Python Program to Remove Punctuation From a String?"
   ]
  },
  {
   "cell_type": "code",
   "execution_count": 8,
   "id": "986f642a",
   "metadata": {},
   "outputs": [
    {
     "name": "stdout",
     "output_type": "stream",
     "text": [
      "enter the string:  Hello my dear friend !!! {tere jaisa yaar kaha}\n"
     ]
    },
    {
     "data": {
      "text/plain": [
       "'Hello my dear friend  tere jaisa yaar kaha'"
      ]
     },
     "execution_count": 8,
     "metadata": {},
     "output_type": "execute_result"
    }
   ],
   "source": [
    "punctuations = '''!()-[]{};:'\"\\,<>./?@#$%^&*_~'''\n",
    "\n",
    "def remove_punc():\n",
    "    output = \"\"\n",
    "    string = input(\"enter the string:  \")\n",
    "    for i in string:\n",
    "        if i not in punctuations:\n",
    "            output = output +i\n",
    "\n",
    "    return output \n",
    "            \n",
    "    \n",
    "remove_punc()\n"
   ]
  },
  {
   "cell_type": "code",
   "execution_count": null,
   "id": "4f55f0b6",
   "metadata": {},
   "outputs": [],
   "source": []
  }
 ],
 "metadata": {
  "kernelspec": {
   "display_name": "Python 3 (ipykernel)",
   "language": "python",
   "name": "python3"
  },
  "language_info": {
   "codemirror_mode": {
    "name": "ipython",
    "version": 3
   },
   "file_extension": ".py",
   "mimetype": "text/x-python",
   "name": "python",
   "nbconvert_exporter": "python",
   "pygments_lexer": "ipython3",
   "version": "3.9.12"
  }
 },
 "nbformat": 4,
 "nbformat_minor": 5
}
