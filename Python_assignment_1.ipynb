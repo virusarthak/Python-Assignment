{
 "cells": [
  {
   "cell_type": "markdown",
   "id": "bfef8f28",
   "metadata": {},
   "source": [
    "### 1. Write a Python program to print \"Hello Python\"?"
   ]
  },
  {
   "cell_type": "code",
   "execution_count": 1,
   "id": "5568a8bf",
   "metadata": {},
   "outputs": [
    {
     "name": "stdout",
     "output_type": "stream",
     "text": [
      "Hello Python\n"
     ]
    }
   ],
   "source": [
    "print(\"Hello Python\")"
   ]
  },
  {
   "cell_type": "markdown",
   "id": "9357a72d",
   "metadata": {},
   "source": [
    "### 2 Write a Python program to do arithmetical operations addition and division.?"
   ]
  },
  {
   "cell_type": "code",
   "execution_count": 3,
   "id": "6bf1a08b",
   "metadata": {},
   "outputs": [
    {
     "name": "stdout",
     "output_type": "stream",
     "text": [
      "23\n",
      "2.3\n"
     ]
    }
   ],
   "source": [
    "# python additon \n",
    "a = 10\n",
    "b = 13\n",
    "c  =10 + 13\n",
    "print(c)\n",
    "\n",
    "# python division \n",
    "d = c/a\n",
    "print(d)\n",
    "\n"
   ]
  },
  {
   "cell_type": "markdown",
   "id": "42a3cab0",
   "metadata": {},
   "source": [
    "### 3. Write a Python program to find the area of a triangle?"
   ]
  },
  {
   "cell_type": "code",
   "execution_count": 7,
   "id": "fccbfa31",
   "metadata": {},
   "outputs": [
    {
     "name": "stdout",
     "output_type": "stream",
     "text": [
      "the area of a triange is 125.0\n"
     ]
    }
   ],
   "source": [
    "height = 10\n",
    "base = 25\n",
    "\n",
    "area = height*base/2\n",
    "\n",
    "print(f\"the area of a triange is {area}\")"
   ]
  },
  {
   "cell_type": "markdown",
   "id": "bd7ee2d0",
   "metadata": {},
   "source": [
    "### 4. Write a Python program to swap two variables?"
   ]
  },
  {
   "cell_type": "code",
   "execution_count": 12,
   "id": "6acf98ed",
   "metadata": {},
   "outputs": [
    {
     "name": "stdout",
     "output_type": "stream",
     "text": [
      "before swaping the variable values of var_a 100 and var_b 200\n",
      "++++++++++\n",
      "Variable values after swapping are var_a 200 and var_b 100\n"
     ]
    }
   ],
   "source": [
    "# original form \n",
    "var_a = 100\n",
    "var_b = 200\n",
    "print(\"before swaping the variable values of var_a {0} and var_b {1}\".format(var_a,var_b))\n",
    "\n",
    "# variable swapping\n",
    "\n",
    "print(\"++++++++++\")\n",
    "\n",
    "temp = var_a # temporary saving var_a value in temp variable\n",
    "var_a = var_b\n",
    "var_b = temp\n",
    "\n",
    "print(f\"Variable values after swapping are var_a {var_a} and var_b {var_b}\")"
   ]
  },
  {
   "cell_type": "markdown",
   "id": "5f4c4ccc",
   "metadata": {},
   "source": [
    "### 5. Write a Python program to generate a random number?"
   ]
  },
  {
   "cell_type": "code",
   "execution_count": 15,
   "id": "d2e28f9a",
   "metadata": {},
   "outputs": [
    {
     "name": "stdout",
     "output_type": "stream",
     "text": [
      "4\n",
      "0.6425845594557209\n"
     ]
    }
   ],
   "source": [
    "# library to  generate random number\n",
    "import random \n",
    "\n",
    "print(random.randint(1,10)) # it take two parameter like start and stop \n",
    "print(random.random()) # it doesnt take any parameter, it generate value between 0 to 1 "
   ]
  },
  {
   "cell_type": "code",
   "execution_count": 16,
   "id": "523c68f6",
   "metadata": {},
   "outputs": [
    {
     "data": {
      "text/plain": [
       "'C:\\\\Users\\\\rajbi\\\\Downloads\\\\Python_assigments'"
      ]
     },
     "execution_count": 16,
     "metadata": {},
     "output_type": "execute_result"
    }
   ],
   "source": [
    "import os\n",
    "os.getcwd()"
   ]
  },
  {
   "cell_type": "code",
   "execution_count": null,
   "id": "8b6bc0ec",
   "metadata": {},
   "outputs": [],
   "source": []
  }
 ],
 "metadata": {
  "kernelspec": {
   "display_name": "Python 3 (ipykernel)",
   "language": "python",
   "name": "python3"
  },
  "language_info": {
   "codemirror_mode": {
    "name": "ipython",
    "version": 3
   },
   "file_extension": ".py",
   "mimetype": "text/x-python",
   "name": "python",
   "nbconvert_exporter": "python",
   "pygments_lexer": "ipython3",
   "version": "3.9.12"
  }
 },
 "nbformat": 4,
 "nbformat_minor": 5
}
