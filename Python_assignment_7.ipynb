{
 "cells": [
  {
   "cell_type": "markdown",
   "id": "84449d46",
   "metadata": {},
   "source": [
    "### 1. Write a Python Program to find sum of array?"
   ]
  },
  {
   "cell_type": "code",
   "execution_count": 1,
   "id": "7b117b3d",
   "metadata": {},
   "outputs": [
    {
     "data": {
      "text/plain": [
       "15"
      ]
     },
     "execution_count": 1,
     "metadata": {},
     "output_type": "execute_result"
    }
   ],
   "source": [
    "def sum_array(lists):\n",
    "    total = 0\n",
    "    for i in lists:\n",
    "        total = total+i\n",
    "    return total\n",
    "sum_array([1,2,3,4,5])"
   ]
  },
  {
   "cell_type": "markdown",
   "id": "75cf9eac",
   "metadata": {},
   "source": [
    "### 2. Write a Python Program to find largest element in an array?"
   ]
  },
  {
   "cell_type": "code",
   "execution_count": 2,
   "id": "0507f14a",
   "metadata": {},
   "outputs": [
    {
     "data": {
      "text/plain": [
       "15"
      ]
     },
     "execution_count": 2,
     "metadata": {},
     "output_type": "execute_result"
    }
   ],
   "source": [
    "def find_largest(lists):\n",
    "    largest_num = 0\n",
    "    for i in lists:\n",
    "        if i > largest_num:\n",
    "            largest_num = i\n",
    "        else:\n",
    "            largest_num = largest_num\n",
    "    return largest_num\n",
    "find_largest([1,2,3,4,13,15,6,7])"
   ]
  },
  {
   "cell_type": "markdown",
   "id": "22b72e6c",
   "metadata": {},
   "source": [
    "### 3. Write a Python Program for array rotation?"
   ]
  },
  {
   "cell_type": "code",
   "execution_count": 3,
   "id": "4f676fe4",
   "metadata": {},
   "outputs": [],
   "source": [
    "def array_roration(l):\n",
    "    return l[::-1]"
   ]
  },
  {
   "cell_type": "code",
   "execution_count": 4,
   "id": "8bba2079",
   "metadata": {},
   "outputs": [
    {
     "data": {
      "text/plain": [
       "[6, 5, 2, 3, 4]"
      ]
     },
     "execution_count": 4,
     "metadata": {},
     "output_type": "execute_result"
    }
   ],
   "source": [
    "array_roration([4,3,2,5,6])"
   ]
  },
  {
   "cell_type": "markdown",
   "id": "fb269618",
   "metadata": {},
   "source": [
    "### 4. Write a Python Program to Split the array and add the first part to the end?"
   ]
  },
  {
   "cell_type": "code",
   "execution_count": 5,
   "id": "93099bc0",
   "metadata": {},
   "outputs": [],
   "source": [
    "def add_first_part_end(arr,split):\n",
    "    new_arr = []\n",
    "    for i in arr:\n",
    "        index = (i+len(arr)+split)%len(arr)\n",
    "        new_arr.append(arr[index])\n",
    "    return new_arr"
   ]
  },
  {
   "cell_type": "code",
   "execution_count": 6,
   "id": "2055404e",
   "metadata": {
    "scrolled": true
   },
   "outputs": [
    {
     "data": {
      "text/plain": [
       "[6, 1, 2, 3, 4, 5]"
      ]
     },
     "execution_count": 6,
     "metadata": {},
     "output_type": "execute_result"
    }
   ],
   "source": [
    "add_first_part_end([1,2,3,4,5,6],4)"
   ]
  },
  {
   "cell_type": "markdown",
   "id": "3ad3c178",
   "metadata": {},
   "source": [
    "### 5. Write a Python Program to check if given array is Monotonic?"
   ]
  },
  {
   "cell_type": "code",
   "execution_count": 7,
   "id": "538db7ce",
   "metadata": {},
   "outputs": [],
   "source": [
    "def arry_monotonic(arr):\n",
    "    for i in range(0,len(arr)-1):\n",
    "        if arr[i] <= arr[i+1]:\n",
    "            return \"Yes, it is Monotonic, increaing order\"\n",
    "        else:\n",
    "            return False"
   ]
  },
  {
   "cell_type": "code",
   "execution_count": 8,
   "id": "66603421",
   "metadata": {},
   "outputs": [
    {
     "data": {
      "text/plain": [
       "'Yes, it is Monotonic, increaing order'"
      ]
     },
     "execution_count": 8,
     "metadata": {},
     "output_type": "execute_result"
    }
   ],
   "source": [
    "arry_monotonic([1,2,3,4,5])"
   ]
  },
  {
   "cell_type": "code",
   "execution_count": null,
   "id": "1a87b692",
   "metadata": {},
   "outputs": [],
   "source": []
  }
 ],
 "metadata": {
  "kernelspec": {
   "display_name": "Python 3 (ipykernel)",
   "language": "python",
   "name": "python3"
  },
  "language_info": {
   "codemirror_mode": {
    "name": "ipython",
    "version": 3
   },
   "file_extension": ".py",
   "mimetype": "text/x-python",
   "name": "python",
   "nbconvert_exporter": "python",
   "pygments_lexer": "ipython3",
   "version": "3.9.12"
  }
 },
 "nbformat": 4,
 "nbformat_minor": 5
}
