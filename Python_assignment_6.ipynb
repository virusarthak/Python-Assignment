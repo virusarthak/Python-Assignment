{
  "nbformat": 4,
  "nbformat_minor": 0,
  "metadata": {
    "colab": {
      "provenance": []
    },
    "kernelspec": {
      "name": "python3",
      "display_name": "Python 3"
    },
    "language_info": {
      "name": "python"
    }
  },
  "cells": [
    {
      "cell_type": "markdown",
      "source": [
        "1. Write a Python Program to Display Fibonacci Sequence Using Recursion?"
      ],
      "metadata": {
        "id": "g-PlyHxYP6Vf"
      }
    },
    {
      "cell_type": "code",
      "execution_count": 9,
      "metadata": {
        "colab": {
          "base_uri": "https://localhost:8080/"
        },
        "id": "QnRUJzerMXJ9",
        "outputId": "e94e9148-26fa-4eab-b489-3675bed9ee90"
      },
      "outputs": [
        {
          "output_type": "stream",
          "name": "stdout",
          "text": [
            "3 5 8 13 21 34 55 89 144 233 377 610 987 1597 2584 4181 6765 10946 17711 28657 "
          ]
        }
      ],
      "source": [
        "def fibo(x,y,z):\n",
        "  if z > 0:\n",
        "    z = z -1\n",
        "    print(x,end=\" \")\n",
        "    temp = y\n",
        "    y = x+y\n",
        "    x = temp\n",
        "    fibo(x,y,z)\n",
        "\n",
        "fibo(3,5,20)\n",
        "\n",
        "\n"
      ]
    },
    {
      "cell_type": "markdown",
      "source": [
        "2. Write a Python Program to Find Factorial of Number Using Recursion?"
      ],
      "metadata": {
        "id": "tUioocEdQG0j"
      }
    },
    {
      "cell_type": "code",
      "source": [
        "def find_fectorial(n):\n",
        "  if n < 2:\n",
        "    return 1\n",
        "  else:\n",
        "    return n*find_fectorial(n-1) "
      ],
      "metadata": {
        "id": "KcIPUfjLQHdx"
      },
      "execution_count": 10,
      "outputs": []
    },
    {
      "cell_type": "code",
      "source": [
        "find_fectorial(5)"
      ],
      "metadata": {
        "colab": {
          "base_uri": "https://localhost:8080/"
        },
        "id": "lSuLZ6IxTD7g",
        "outputId": "e30faec7-8674-47ec-d387-c7bbc46b2aa3"
      },
      "execution_count": 11,
      "outputs": [
        {
          "output_type": "execute_result",
          "data": {
            "text/plain": [
              "120"
            ]
          },
          "metadata": {},
          "execution_count": 11
        }
      ]
    },
    {
      "cell_type": "markdown",
      "source": [
        "3. Write a Python Program to calculate your Body Mass Index?"
      ],
      "metadata": {
        "id": "zZkhwwvDdp3g"
      }
    },
    {
      "cell_type": "code",
      "source": [
        "import numpy as np \n",
        "def bmi(height, weight):\n",
        "  return weight / np.sqrt(height)"
      ],
      "metadata": {
        "id": "dcmXtS69drYF"
      },
      "execution_count": 12,
      "outputs": []
    },
    {
      "cell_type": "code",
      "source": [
        "bmi(5.5,90)"
      ],
      "metadata": {
        "colab": {
          "base_uri": "https://localhost:8080/"
        },
        "id": "5cG7TbSrd69A",
        "outputId": "4f5700ef-2d5b-49c5-ddd9-825a3a31a978"
      },
      "execution_count": 13,
      "outputs": [
        {
          "output_type": "execute_result",
          "data": {
            "text/plain": [
              "38.37612894400988"
            ]
          },
          "metadata": {},
          "execution_count": 13
        }
      ]
    },
    {
      "cell_type": "code",
      "source": [],
      "metadata": {
        "id": "waeba58Gd-J5"
      },
      "execution_count": 13,
      "outputs": []
    },
    {
      "cell_type": "markdown",
      "source": [
        "4. Write a Python Program to calculate the natural logarithm of any number?"
      ],
      "metadata": {
        "id": "ebpkAuzjecfV"
      }
    },
    {
      "cell_type": "code",
      "source": [
        "from logging import exception\n",
        "import math\n",
        "\n",
        "try:\n",
        "  num = int(input(\"enter the number:  \"))\n",
        "except exception as e:\n",
        "  print(e)\n",
        "else:\n",
        "  print(math.log(num))"
      ],
      "metadata": {
        "colab": {
          "base_uri": "https://localhost:8080/"
        },
        "id": "KMfC_m-gee1a",
        "outputId": "90ada4f5-6b5a-4648-9e7b-9dcd5cb1038d"
      },
      "execution_count": 14,
      "outputs": [
        {
          "output_type": "stream",
          "name": "stdout",
          "text": [
            "enter the number:  10\n",
            "2.302585092994046\n"
          ]
        }
      ]
    },
    {
      "cell_type": "markdown",
      "source": [
        "5. Write a Python Program for cube sum of first n natural numbers?"
      ],
      "metadata": {
        "id": "Rg06IkLPM_NV"
      }
    },
    {
      "cell_type": "code",
      "source": [
        "def sumOfCubeN(n):\n",
        "  return sum(range(n+1))**3"
      ],
      "metadata": {
        "id": "zU5MNjGVMte1"
      },
      "execution_count": 15,
      "outputs": []
    },
    {
      "cell_type": "code",
      "source": [
        "sumOfCubeN(3)"
      ],
      "metadata": {
        "colab": {
          "base_uri": "https://localhost:8080/"
        },
        "id": "RA9nQFC0M_tf",
        "outputId": "2147c69a-1a41-4be5-c87d-7e5444e16e69"
      },
      "execution_count": 16,
      "outputs": [
        {
          "output_type": "execute_result",
          "data": {
            "text/plain": [
              "216"
            ]
          },
          "metadata": {},
          "execution_count": 16
        }
      ]
    }
  ]
}